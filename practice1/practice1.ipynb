{
 "cells": [
  {
   "cell_type": "markdown",
   "metadata": {},
   "source": [
    "# 將資料做Z-score normalization "
   ]
  },
  {
   "cell_type": "code",
   "execution_count": 49,
   "metadata": {},
   "outputs": [
    {
     "name": "stdout",
     "output_type": "stream",
     "text": [
      "torch.Size([100, 2])\n",
      "tensor([[20., 39.],\n",
      "        [17., 68.],\n",
      "        [10., 48.],\n",
      "        [52., 29.],\n",
      "        [33., 16.],\n",
      "        [71., 53.],\n",
      "        [51., 88.],\n",
      "        [41., 17.],\n",
      "        [68., 29.],\n",
      "        [52., 17.],\n",
      "        [67., 66.],\n",
      "        [50., 25.],\n",
      "        [24., 46.],\n",
      "        [65., 67.],\n",
      "        [93., 66.],\n",
      "        [20., 12.],\n",
      "        [91., 36.],\n",
      "        [32., 85.],\n",
      "        [76., 62.],\n",
      "        [26., 57.],\n",
      "        [22., 93.],\n",
      "        [15., 47.],\n",
      "        [92., 93.],\n",
      "        [45., 75.],\n",
      "        [25., 89.],\n",
      "        [80., 11.],\n",
      "        [66., 22.],\n",
      "        [91., 22.],\n",
      "        [14., 71.],\n",
      "        [98., 45.],\n",
      "        [94., 58.],\n",
      "        [76., 61.],\n",
      "        [87., 77.],\n",
      "        [28., 19.],\n",
      "        [83., 20.],\n",
      "        [77., 97.],\n",
      "        [19., 46.],\n",
      "        [40., 59.],\n",
      "        [21., 15.],\n",
      "        [29., 78.],\n",
      "        [91., 12.],\n",
      "        [43., 45.],\n",
      "        [50., 52.],\n",
      "        [34., 88.],\n",
      "        [73., 84.],\n",
      "        [48., 79.],\n",
      "        [91., 33.],\n",
      "        [30., 31.],\n",
      "        [72., 61.],\n",
      "        [23., 88.],\n",
      "        [60., 95.],\n",
      "        [46., 47.],\n",
      "        [24., 36.],\n",
      "        [40., 33.],\n",
      "        [16., 28.],\n",
      "        [76., 86.],\n",
      "        [35., 71.],\n",
      "        [25., 37.],\n",
      "        [13., 22.],\n",
      "        [83., 79.],\n",
      "        [49., 31.],\n",
      "        [36., 58.],\n",
      "        [20., 62.],\n",
      "        [67., 56.],\n",
      "        [98., 30.],\n",
      "        [20., 33.],\n",
      "        [59., 77.],\n",
      "        [93., 18.],\n",
      "        [24., 13.],\n",
      "        [43., 85.],\n",
      "        [31., 74.],\n",
      "        [24., 38.],\n",
      "        [93., 76.],\n",
      "        [95., 97.],\n",
      "        [18., 72.],\n",
      "        [95., 88.],\n",
      "        [97., 27.],\n",
      "        [56., 82.],\n",
      "        [85., 21.],\n",
      "        [26., 32.],\n",
      "        [33., 20.],\n",
      "        [93., 13.],\n",
      "        [42., 70.],\n",
      "        [88., 12.],\n",
      "        [16., 29.],\n",
      "        [73., 35.],\n",
      "        [89., 93.],\n",
      "        [53., 34.],\n",
      "        [85., 89.],\n",
      "        [85., 29.],\n",
      "        [88., 32.],\n",
      "        [99., 86.],\n",
      "        [21., 53.],\n",
      "        [92., 91.],\n",
      "        [73., 74.],\n",
      "        [50., 83.],\n",
      "        [51., 73.],\n",
      "        [22., 34.],\n",
      "        [25., 24.],\n",
      "        [24., 64.]])\n"
     ]
    }
   ],
   "source": [
    "import torch\n",
    "import matplotlib.pyplot as plt\n",
    "\n",
    "rand_data = torch.randint(10,100,(100,2)).float()\n",
    "print(rand_data.shape)\n",
    "print(rand_data)"
   ]
  },
  {
   "cell_type": "code",
   "execution_count": 12,
   "metadata": {},
   "outputs": [
    {
     "data": {
      "text/plain": [
       "[<matplotlib.lines.Line2D at 0x13faf736790>]"
      ]
     },
     "execution_count": 12,
     "metadata": {},
     "output_type": "execute_result"
    },
    {
     "data": {
      "image/png": "[encoded data removed]",
      "text/plain": [
       "<Figure size 432x288 with 1 Axes>"
      ]
     },
     "metadata": {
      "needs_background": "light"
     },
     "output_type": "display_data"
    }
   ],
   "source": [
    "plt.figure()\n",
    "plt.plot(rand_data[:, 0].numpy(),rand_data[:, 1].numpy(),\"y*\")"
   ]
  },
  {
   "cell_type": "code",
   "execution_count": 57,
   "metadata": {},
   "outputs": [
    {
     "data": {
      "text/plain": [
       "[<matplotlib.lines.Line2D at 0x23255faab50>]"
      ]
     },
     "execution_count": 57,
     "metadata": {},
     "output_type": "execute_result"
    },
    {
     "data": {
      "image/png": "[encoded data removed]",
      "text/plain": [
       "<Figure size 432x288 with 1 Axes>"
      ]
     },
     "metadata": {
      "needs_background": "light"
     },
     "output_type": "display_data"
    }
   ],
   "source": [
    "#將rand_data做Z-score normalization\n",
    "norm_data = (rand_data-torch.mean(rand_data))/torch.std(rand_data)\n",
    "#顯示圖片\n",
    "plt.figure()\n",
    "plt.plot(norm_data[:, 0].numpy(), norm_data[:, 1].numpy(),\"r.\")"
   ]
  },
  {
   "cell_type": "markdown",
   "metadata": {},
   "source": [
    "# 計算兩個向量曼哈頓距離"
   ]
  },
  {
   "cell_type": "code",
   "execution_count": 7,
   "metadata": {},
   "outputs": [
    {
     "name": "stdout",
     "output_type": "stream",
     "text": [
      "manhattan_dist is: 5.0\n"
     ]
    }
   ],
   "source": [
    "import torch\n",
    "vector1 =  torch.Tensor([1,6,3])\n",
    "vector2 = torch.Tensor([2,4,5])\n",
    "\n",
    "# 計算兩個向量曼哈頓距離\n",
    "manhattan_dist = torch.sum(torch.abs(vector1 - vector2))\n",
    "print('manhattan_dist is: {}'.format(manhattan_dist))"
   ]
  },
  {
   "cell_type": "markdown",
   "metadata": {},
   "source": [
    "# 寫一個one-hot函數來產生one-hot編碼"
   ]
  },
  {
   "cell_type": "code",
   "execution_count": 62,
   "metadata": {},
   "outputs": [
    {
     "name": "stdout",
     "output_type": "stream",
     "text": [
      "tensor([0., 0., 1.])\n",
      "tensor([1., 0., 0., 0., 0., 0., 0., 0., 0., 0.])\n",
      "tensor([0., 0., 0., 1., 0., 0., 0., 0., 0., 0.])\n"
     ]
    }
   ],
   "source": [
    "import torch\n",
    "# def one_hot(num, totol_length):\n",
    "#     #完成one_hot編碼函數\n",
    "#     x = torch.zeros(1,totol_length)\n",
    "#     x = x.squeeze(dim=0)\n",
    "#     x[num] = 1\n",
    "#     return x\n",
    "\n",
    "def one_hot(num, totol_length):\n",
    "    return torch.eye(totol_length)[num]\n",
    "\n",
    "print(one_hot(2,3))\n",
    "print(one_hot(0,10))\n",
    "print(one_hot(3,10))"
   ]
  },
  {
   "cell_type": "markdown",
   "metadata": {},
   "source": [
    "# 優化以下函數(假設x, y ,z 初始值均為1, learning_rate = 0.1)  \n",
    "$$\n",
    "f = x^2+y^2+z^2+ 2x+4y-6z\n",
    "$$"
   ]
  },
  {
   "cell_type": "code",
   "execution_count": 25,
   "metadata": {},
   "outputs": [
    {
     "name": "stdout",
     "output_type": "stream",
     "text": [
      "when x=[-0.9999999], y=[-1.9999998], z=[2.9999995],  f have min value [-13.999999]\n"
     ]
    }
   ],
   "source": [
    "import torch\n",
    "learning_rate = 0.1\n",
    "x = torch.ones((1,), requires_grad=True)\n",
    "y = torch.ones((1,), requires_grad=True)\n",
    "z = torch.ones((1,), requires_grad=True)\n",
    "\n",
    "\n",
    "## 優化以上函數(假設x, y ,z 初始值均為1, learning_rate = 0.1)\n",
    "\n",
    "print('when x={}, y={}, z={},  f have min value {}'.format(x.detach().numpy(), y.detach().numpy(), z.detach().numpy(), f.detach().numpy()))"
   ]
  },
  {
   "cell_type": "code",
   "execution_count": 61,
   "metadata": {},
   "outputs": [
    {
     "name": "stdout",
     "output_type": "stream",
     "text": [
      "when x=[-0.9999999], y=[-1.9999998], z=[2.9999995],  f have min value [-13.999999]\n"
     ]
    }
   ],
   "source": [
    "import torch\n",
    "learning_rate = 0.1\n",
    "x = torch.ones((1,), requires_grad=True)\n",
    "y = torch.ones((1,), requires_grad=True)\n",
    "z = torch.ones((1,), requires_grad=True)\n",
    "\n",
    "\n",
    "## 優化以上函數(假設x, y ,z 初始值均為1, learning_rate = 0.1)\n",
    "optimizer = torch.optim.SGD([x,y,z], lr=learning_rate)\n",
    "\n",
    "for i in range(100):\n",
    "    f = x*x + y*y+ z*z + 2*x+ 4*y - 6*z \n",
    "    optimizer.zero_grad()\n",
    "    f.backward()\n",
    "    optimizer.step()\n",
    "\n",
    "\n",
    "print('when x={}, y={}, z={},  f have min value {}'.format(x.detach().numpy(), y.detach().numpy(), z.detach().numpy(), f.detach().numpy()))"
   ]
  },
  {
   "cell_type": "code",
   "execution_count": null,
   "metadata": {},
   "outputs": [],
   "source": []
  },
  {
   "cell_type": "code",
   "execution_count": null,
   "metadata": {},
   "outputs": [],
   "source": []
  },
  {
   "cell_type": "code",
   "execution_count": null,
   "metadata": {},
   "outputs": [],
   "source": []
  }
 ],
 "metadata": {
  "kernelspec": {
   "display_name": "Python 3.8.13 ('AI_course')",
   "language": "python",
   "name": "python3"
  },
  "language_info": {
   "codemirror_mode": {
    "name": "ipython",
    "version": 3
   },
   "file_extension": ".py",
   "mimetype": "text/x-python",
   "name": "python",
   "nbconvert_exporter": "python",
   "pygments_lexer": "ipython3",
   "version": "3.8.13"
  },
  "vscode": {
   "interpreter": {
    "hash": "17351a460c7b6a87bea396add1443477c853166d48a66f1614cf7bf03cffca4c"
   }
  }
 },
 "nbformat": 4,
 "nbformat_minor": 4
}
