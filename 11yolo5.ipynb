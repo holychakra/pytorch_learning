{
 "cells": [
  {
   "cell_type": "markdown",
   "metadata": {},
   "source": [
    "# Pytorch Hub(Yolov5)"
   ]
  },
  {
   "cell_type": "code",
   "execution_count": 1,
   "metadata": {},
   "outputs": [
    {
     "name": "stderr",
     "output_type": "stream",
     "text": [
      "Using cache found in C:\\Users\\Student/.cache\\torch\\hub\\ultralytics_yolov5_master\n",
      "YOLOv5 🚀 2022-8-9 Python-3.8.13 torch-1.12.1 CPU\n",
      "\n",
      "Downloading https://github.com/ultralytics/yolov5/releases/download/v6.1/yolov5s.pt to yolov5s.pt...\n"
     ]
    },
    {
     "data": {
      "application/vnd.jupyter.widget-view+json": {
       "model_id": "cecd52476fa040edb274ffc9e05f8693",
       "version_major": 2,
       "version_minor": 0
      },
      "text/plain": [
       "  0%|          | 0.00/14.1M [00:00<?, ?B/s]"
      ]
     },
     "metadata": {},
     "output_type": "display_data"
    },
    {
     "name": "stderr",
     "output_type": "stream",
     "text": [
      "\n",
      "Fusing layers... \n",
      "YOLOv5s summary: 213 layers, 7225885 parameters, 0 gradients\n",
      "Adding AutoShape... \n"
     ]
    },
    {
     "data": {
      "application/vnd.jupyter.widget-view+json": {
       "model_id": "1439911b5dac43f795dd53dc7897c4c5",
       "version_major": 2,
       "version_minor": 0
      },
      "text/plain": [
       "  0%|          | 0.00/165k [00:00<?, ?B/s]"
      ]
     },
     "metadata": {},
     "output_type": "display_data"
    },
    {
     "data": {
      "application/vnd.jupyter.widget-view+json": {
       "model_id": "9684529e2d0b4132b492b1dc30c677ba",
       "version_major": 2,
       "version_minor": 0
      },
      "text/plain": [
       "  0%|          | 0.00/476k [00:00<?, ?B/s]"
      ]
     },
     "metadata": {},
     "output_type": "display_data"
    },
    {
     "name": "stderr",
     "output_type": "stream",
     "text": [
      "Saved 2 images to \u001b[1mruns\\detect\\exp\u001b[0m\n"
     ]
    },
    {
     "name": "stdout",
     "output_type": "stream",
     "text": [
      "image 1/2: 720x1280 2 persons, 2 ties\n",
      "image 2/2: 1080x810 4 persons, 1 bus\n",
      "Speed: 10.5ms pre-process, 145.5ms inference, 4.0ms NMS per image at shape (2, 3, 640, 640)\n",
      "tensor([[7.42550e+02, 4.80371e+01, 1.14120e+03, 7.16642e+02, 8.81825e-01, 0.00000e+00],\n",
      "        [4.42059e+02, 4.37528e+02, 4.96809e+02, 7.09839e+02, 6.87342e-01, 2.70000e+01],\n",
      "        [1.25191e+02, 1.93681e+02, 7.11992e+02, 7.13047e+02, 6.39419e-01, 0.00000e+00],\n",
      "        [9.82893e+02, 3.08357e+02, 1.02737e+03, 4.20092e+02, 2.62014e-01, 2.70000e+01]])\n",
      "         xmin        ymin         xmax        ymax  confidence  class    name\n",
      "0  742.550171   48.037079  1141.204712  716.641724    0.881825      0  person\n",
      "1  442.059479  437.528076   496.809357  709.838989    0.687342     27     tie\n",
      "2  125.191498  193.680542   711.992310  713.046997    0.639419      0  person\n",
      "3  982.893127  308.356750  1027.368774  420.091736    0.262014     27     tie\n"
     ]
    }
   ],
   "source": [
    "import cv2\n",
    "import torch\n",
    "from PIL import Image\n",
    "\n",
    "# Model\n",
    "model = torch.hub.load('ultralytics/yolov5', 'yolov5s')\n",
    "\n",
    "# Images\n",
    "for f in ['zidane.jpg', 'bus.jpg']:\n",
    "    torch.hub.download_url_to_file('https://ultralytics.com/images/' + f, f)  # download 2 images\n",
    "img1 = Image.open('zidane.jpg')  # PIL image\n",
    "img2 = cv2.imread('bus.jpg')[:, :, ::-1]  # OpenCV image (BGR to RGB)\n",
    "imgs = [img1, img2]  # batch of images\n",
    "\n",
    "# Inference\n",
    "results = model(imgs, size=640)  # includes NMS\n",
    "\n",
    "# Results\n",
    "results.print()  \n",
    "results.save()  # or .show()\n",
    "\n",
    "print(results.xyxy[0])  # img1 predictions (tensor)\n",
    "print(results.pandas().xyxy[0])  # img1 predictions (pandas)"
   ]
  },
  {
   "cell_type": "code",
   "execution_count": null,
   "metadata": {},
   "outputs": [],
   "source": []
  }
 ],
 "metadata": {
  "kernelspec": {
   "display_name": "Python 3.8.13 ('AI_course')",
   "language": "python",
   "name": "python3"
  },
  "language_info": {
   "codemirror_mode": {
    "name": "ipython",
    "version": 3
   },
   "file_extension": ".py",
   "mimetype": "text/x-python",
   "name": "python",
   "nbconvert_exporter": "python",
   "pygments_lexer": "ipython3",
   "version": "3.8.13"
  },
  "vscode": {
   "interpreter": {
    "hash": "17351a460c7b6a87bea396add1443477c853166d48a66f1614cf7bf03cffca4c"
   }
  }
 },
 "nbformat": 4,
 "nbformat_minor": 4
}
