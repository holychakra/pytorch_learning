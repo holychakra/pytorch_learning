{
 "cells": [
  {
   "cell_type": "markdown",
   "metadata": {},
   "source": [
    "# MNIST ~"
   ]
  },
  {
   "cell_type": "code",
   "execution_count": 12,
   "metadata": {},
   "outputs": [
    {
     "name": "stdout",
     "output_type": "stream",
     "text": [
      "Using cpu device\n",
      "torch.Size([64, 1, 28, 28])\n"
     ]
    }
   ],
   "source": [
    "import torch\n",
    "from torchvision.datasets import mnist\n",
    "from torch.utils.data import DataLoader\n",
    "from torchvision import datasets, transforms\n",
    "import numpy as np\n",
    "import torch.nn.functional as F\n",
    "from torch import nn\n",
    "import matplotlib.pyplot as plt\n",
    "\n",
    "# Get cpu or gpu device for training.\n",
    "device = \"cuda\" if torch.cuda.is_available() else \"cpu\"\n",
    "print(\"Using {} device\".format(device))\n",
    "\n",
    "transform = transforms.Compose(\n",
    "    [transforms.ToTensor(),\n",
    "     transforms.Normalize((0.5), (0.5))])\n",
    "\n",
    "trainset = mnist.MNIST('./dataset/mnist', train=True, transform=transform, download=True)\n",
    "testset = mnist.MNIST('./dataset/mnist', train = False, transform=transform, download=True)\n",
    "\n",
    "train_data = DataLoader(trainset, batch_size=64, shuffle=True)\n",
    "test_data = DataLoader(testset, batch_size=128, shuffle=False)\n",
    "\n",
    "for im, label in train_data:\n",
    "    print(im.shape)\n",
    "    break"
   ]
  },
  {
   "cell_type": "code",
   "execution_count": 19,
   "metadata": {},
   "outputs": [
    {
     "name": "stdout",
     "output_type": "stream",
     "text": [
      "epoch: 0, Train Loss: 0.176243, Train Acc: 0.945912, Eval Loss: 0.055590, Eval Acc: 0.981309\n",
      "epoch: 1, Train Loss: 0.055835, Train Acc: 0.982643, Eval Loss: 0.042406, Eval Acc: 0.985562\n",
      "epoch: 2, Train Loss: 0.041552, Train Acc: 0.987040, Eval Loss: 0.038247, Eval Acc: 0.986254\n",
      "epoch: 3, Train Loss: 0.033565, Train Acc: 0.989955, Eval Loss: 0.028260, Eval Acc: 0.990111\n",
      "epoch: 4, Train Loss: 0.028176, Train Acc: 0.991421, Eval Loss: 0.039092, Eval Acc: 0.988924\n"
     ]
    }
   ],
   "source": [
    "\n",
    "\n",
    "class CNN(nn.Module):\n",
    "    def __init__(self):\n",
    "        super(CNN, self).__init__()\n",
    "        \n",
    "        self.cnn1 = nn.Conv2d(in_channels=1, out_channels=16, kernel_size=5, stride=1, padding=0) #output_shape=(16,24,24)\n",
    "        self.relu1 = nn.ReLU() # activation\n",
    "        # Max pool 1\n",
    "        self.maxpool1 = nn.MaxPool2d(kernel_size=2) #output_shape=(16,12,12)\n",
    "        # Convolution 2\n",
    "        self.cnn2 = nn.Conv2d(in_channels=16, out_channels=32, kernel_size=5, stride=1, padding=0) #output_shape=(32,8,8)\n",
    "        self.relu2 = nn.ReLU() # activation\n",
    "        # Max pool 2\n",
    "        self.maxpool2 = nn.MaxPool2d(kernel_size=2) #output_shape=(32,4,4)\n",
    "        # Fully connected 1 ,#input_shape=(32*4*4)\n",
    "        self.fc1 = nn.Linear(32 * 4 * 4, 10)\n",
    "        \n",
    "    def forward(self, x):\n",
    "        # Convolution 1\n",
    "        x = self.cnn1(x)\n",
    "        x = self.relu1(x)\n",
    "        # Max pool 1\n",
    "        x = self.maxpool1(x)\n",
    "        # Convolution 2 \n",
    "        x = self.cnn2(x)\n",
    "        x = self.relu2(x)\n",
    "        # Max pool 2 \n",
    "        x = self.maxpool2(x)\n",
    "        x = x.view(x.size(0), -1)\n",
    "        # Linear function (readout)\n",
    "        x = self.fc1(x)\n",
    "        return x\n",
    "\n",
    "# build model\n",
    "model = CNN().to(device)\n",
    "\n",
    "# define cost\n",
    "criterion = nn.CrossEntropyLoss()\n",
    "\n",
    "# optimization\n",
    "optimizer = torch.optim.SGD(model.parameters(), 0.1)\n",
    "#optimizer = torch.optim.RMSprop(model.parameters(), 0.01, alpha=0.9)\n",
    "#optimizer = torch.optim.Adam(model.parameters(), 0.01, betas=(0.9, 0.99))\n",
    "\n",
    "losses = []\n",
    "acces = []\n",
    "eval_losses = []\n",
    "eval_acces = []\n",
    "\n",
    "\n",
    "\n",
    "for epoch in range(5):\n",
    "    train_loss = 0\n",
    "    train_acc = 0\n",
    "    model.train()      \n",
    "    \n",
    "    for im, label in train_data:\n",
    "        \n",
    "        im = im.to(device)\n",
    "        label = label.to(device)\n",
    "        pred = model(im)\n",
    "        \n",
    "        loss = criterion(pred, label)\n",
    "        \n",
    "        # zero the parameter gradients\n",
    "        optimizer.zero_grad()\n",
    "        \n",
    "        loss.backward()\n",
    "        \n",
    "        optimizer.step()\n",
    "        \n",
    "        train_loss += loss.item()\n",
    "        \n",
    "\n",
    "\n",
    "        _, pred = pred.max(1)\n",
    "        num_correct = (pred == label).sum().item() #  sum() ===>命中的次數 產生如: tensor:24   item() ===>取值 \n",
    "        acc = num_correct / im.shape[0]            #  命中數 / 64\n",
    "        train_acc += acc\n",
    "        \n",
    "    losses.append(train_loss / len(train_data))\n",
    "    acces.append(train_acc / len(train_data))\n",
    "    \n",
    "\n",
    "    eval_loss = 0\n",
    "    eval_acc = 0\n",
    "    model.eval()\n",
    "    \n",
    "    for im, label in test_data:\n",
    "\n",
    "        im = im.to(device)\n",
    "        label = label.to(device)\n",
    "        \n",
    "        pred = model(im)\n",
    "        loss = criterion(pred, label)\n",
    "\n",
    "        \n",
    "        eval_loss += loss.item()\n",
    "\n",
    "        \n",
    "        _, pred = pred.max(1)\n",
    "        num_correct = (pred == label).sum().item()\n",
    "        acc = num_correct / im.shape[0]\n",
    "        eval_acc += acc\n",
    "    \n",
    "    eval_losses.append(eval_loss / len(test_data))\n",
    "    eval_acces.append(eval_acc / len(test_data))\n",
    "    print('epoch: {}, Train Loss: {:.6f}, Train Acc: {:.6f}, Eval Loss: {:.6f}, Eval Acc: {:.6f}'\n",
    "          .format(epoch, train_loss / len(train_data), train_acc / len(train_data), eval_loss / len(test_data), eval_acc / len(test_data)))"
   ]
  },
  {
   "cell_type": "code",
   "execution_count": 3,
   "metadata": {},
   "outputs": [
    {
     "data": {
      "image/png": "[encoded data removed]",
      "text/plain": [
       "<Figure size 432x288 with 1 Axes>"
      ]
     },
     "metadata": {
      "needs_background": "light"
     },
     "output_type": "display_data"
    }
   ],
   "source": [
    "plt.plot(np.arange(0,5),losses)\n",
    "plt.plot(np.arange(0,5),eval_losses)\n",
    "plt.title('Model  Loss')\n",
    "plt.xlabel('Epoch')        \n",
    "plt.ylabel('Loss')\n",
    "plt.legend(['Train', 'Test'], loc='upper right')\n",
    "\n",
    "plt.show()"
   ]
  },
  {
   "cell_type": "code",
   "execution_count": 4,
   "metadata": {},
   "outputs": [
    {
     "data": {
      "image/png": "[encoded data removed]",
      "text/plain": [
       "<Figure size 432x288 with 1 Axes>"
      ]
     },
     "metadata": {
      "needs_background": "light"
     },
     "output_type": "display_data"
    }
   ],
   "source": [
    "plt.plot(np.arange(0,5),acces)\n",
    "plt.plot(np.arange(0,5),eval_acces)\n",
    "plt.title('Model  Accuracy')\n",
    "plt.xlabel('Epoch')        \n",
    "plt.ylabel('Accuracy')\n",
    "plt.legend(['Train', 'Test'], loc='upper right')\n",
    "\n",
    "plt.show()"
   ]
  },
  {
   "cell_type": "markdown",
   "metadata": {},
   "source": [
    "# Cifar10"
   ]
  },
  {
   "cell_type": "code",
   "execution_count": 34,
   "metadata": {},
   "outputs": [
    {
     "name": "stdout",
     "output_type": "stream",
     "text": [
      "Using cpu device\n",
      "Files already downloaded and verified\n",
      "Files already downloaded and verified\n"
     ]
    }
   ],
   "source": [
    "import torch\n",
    "import torchvision\n",
    "import torchvision.transforms as transforms\n",
    "\n",
    "# Get cpu or gpu device for training.\n",
    "device = \"cuda\" if torch.cuda.is_available() else \"cpu\"\n",
    "print(\"Using {} device\".format(device))\n",
    "\n",
    "transform = transforms.Compose( \n",
    "    [transforms.ToTensor(),\n",
    "     transforms.Normalize((0.5, 0.5, 0.5), (0.5, 0.5, 0.5))])\n",
    " \n",
    "trainset = torchvision.datasets.CIFAR10(root='./dataset/cifar10_data', train=True,\n",
    "                                        download=True, transform=transform)\n",
    "trainloader = torch.utils.data.DataLoader(trainset, batch_size=4,\n",
    "                                          shuffle=True, num_workers=2)\n",
    "\n",
    "testset = torchvision.datasets.CIFAR10(root='./dataset/cifar10_data', train=False,\n",
    "                                       download=True, transform=transform)\n",
    "testloader = torch.utils.data.DataLoader(testset, batch_size=4,\n",
    "                                         shuffle=False, num_workers=2)\n",
    "\n",
    "classes = ('plane', 'car', 'bird', 'cat',\n",
    "           'deer', 'dog', 'frog', 'horse', 'ship', 'truck')"
   ]
  },
  {
   "cell_type": "code",
   "execution_count": 35,
   "metadata": {},
   "outputs": [
    {
     "data": {
      "image/png": "[encoded data removed]",
      "text/plain": [
       "<Figure size 432x288 with 1 Axes>"
      ]
     },
     "metadata": {
      "needs_background": "light"
     },
     "output_type": "display_data"
    },
    {
     "name": "stdout",
     "output_type": "stream",
     "text": [
      "horse horse truck  frog\n"
     ]
    }
   ],
   "source": [
    "import matplotlib.pyplot as plt\n",
    "import numpy as np\n",
    "\n",
    "# functions to show an image\n",
    "\n",
    "\n",
    "def imshow(img): \n",
    "    img = img / 2 + 0.5     # unnormalize (原本是-0.5 再 /0.5 恢復變 *0.5+0.5)\n",
    "    npimg = img.numpy()\n",
    "    plt.imshow(np.transpose(npimg, (1, 2, 0))) # 原本pytorch 是深、長、寬 ； ply.show要改長、寬、深\n",
    "    plt.show()\n",
    "\n",
    "\n",
    "# get some random training images\n",
    "dataiter = iter(trainloader)\n",
    "images, labels = dataiter.next()\n",
    "\n",
    "# show images\n",
    "imshow(torchvision.utils.make_grid(images))\n",
    "# print labels\n",
    "print(' '.join('%5s' % classes[labels[j]] for j in range(4)))"
   ]
  },
  {
   "cell_type": "code",
   "execution_count": 36,
   "metadata": {},
   "outputs": [],
   "source": [
    "import torch.nn as nn\n",
    "import torch.nn.functional as F\n",
    "import torch.optim as optim\n",
    "\n",
    "class Net(nn.Module):\n",
    "    def __init__(self):\n",
    "        super(Net, self).__init__()\n",
    "        self.conv1 = nn.Conv2d(3, 6, 5) # input3 output6(6個kernel) kernelsize=5*5/\n",
    "        self.pool = nn.MaxPool2d(2, 2)\n",
    "        self.conv2 = nn.Conv2d(6, 16, 5)\n",
    "        self.fc1 = nn.Linear(16 * 5 * 5, 120)\n",
    "        self.fc2 = nn.Linear(120, 84)\n",
    "        self.fc3 = nn.Linear(84, 10)\n",
    "\n",
    "    def forward(self, x):\n",
    "        x = self.pool(F.relu(self.conv1(x)))\n",
    "        x = self.pool(F.relu(self.conv2(x)))\n",
    "        x = x.view(-1, 16 * 5 * 5)\n",
    "        x = F.relu(self.fc1(x))\n",
    "        x = F.relu(self.fc2(x))\n",
    "        x = self.fc3(x)\n",
    "        return x\n",
    "\n",
    "\n",
    "net = Net()\n",
    "\n",
    "\n",
    "criterion = nn.CrossEntropyLoss()\n",
    "optimizer = optim.SGD(net.parameters(), lr=0.001, momentum=0.9) # momentum 動量"
   ]
  },
  {
   "cell_type": "code",
   "execution_count": 37,
   "metadata": {},
   "outputs": [
    {
     "name": "stdout",
     "output_type": "stream",
     "text": [
      "[1,  2000] loss: 2.199\n",
      "[1,  4000] loss: 1.844\n",
      "[1,  6000] loss: 1.648\n",
      "[1,  8000] loss: 1.551\n",
      "[1, 10000] loss: 1.485\n",
      "[1, 12000] loss: 1.457\n",
      "[2,  2000] loss: 1.392\n",
      "[2,  4000] loss: 1.345\n",
      "[2,  6000] loss: 1.327\n",
      "[2,  8000] loss: 1.324\n",
      "[2, 10000] loss: 1.303\n",
      "[2, 12000] loss: 1.280\n",
      "Finished Training\n"
     ]
    }
   ],
   "source": [
    "for epoch in range(2):  # loop over the dataset multiple times\n",
    "\n",
    "    running_loss = 0.0\n",
    "    for i, data in enumerate(trainloader, 0):\n",
    "        # get the inputs; data is a list of [inputs, labels]\n",
    "\n",
    "        inputs, labels = data\n",
    "        \n",
    "        inputs -inputs.to(device)\n",
    "        labels -labels.to(device)\n",
    " \n",
    "        # zero the parameter gradients\n",
    "        optimizer.zero_grad() \n",
    "\n",
    "        # forward + backward + optimize\n",
    "        outputs = net(inputs)\n",
    "        loss = criterion(outputs, labels)\n",
    "        loss.backward()\n",
    "        optimizer.step()\n",
    "\n",
    "        # print statistics\n",
    "        running_loss += loss.item()\n",
    "        if i % 2000 == 1999:    # print every 2000 mini-batches\n",
    "            print('[%d, %5d] loss: %.3f' %\n",
    "                  (epoch + 1, i + 1, running_loss / 2000))\n",
    "            running_loss = 0.0\n",
    "\n",
    "print('Finished Training')"
   ]
  },
  {
   "cell_type": "code",
   "execution_count": 39,
   "metadata": {},
   "outputs": [],
   "source": [
    "PATH = './save/cifar_net.pth'\n",
    "torch.save(net.state_dict(), PATH)"
   ]
  },
  {
   "cell_type": "code",
   "execution_count": 9,
   "metadata": {},
   "outputs": [
    {
     "data": {
      "image/png": "[encoded data removed]",
      "text/plain": [
       "<Figure size 432x288 with 1 Axes>"
      ]
     },
     "metadata": {
      "needs_background": "light"
     },
     "output_type": "display_data"
    },
    {
     "name": "stdout",
     "output_type": "stream",
     "text": [
      "GroundTruth:    cat  ship  ship plane\n"
     ]
    }
   ],
   "source": [
    "dataiter = iter(testloader)\n",
    "images, labels = dataiter.next()\n",
    "\n",
    "# print images\n",
    "imshow(torchvision.utils.make_grid(images))\n",
    "print('GroundTruth: ', ' '.join('%5s' % classes[labels[j]] for j in range(4)))"
   ]
  },
  {
   "cell_type": "code",
   "execution_count": 11,
   "metadata": {},
   "outputs": [
    {
     "data": {
      "text/plain": [
       "<All keys matched successfully>"
      ]
     },
     "execution_count": 11,
     "metadata": {},
     "output_type": "execute_result"
    }
   ],
   "source": [
    "net = Net()\n",
    "net.load_state_dict(torch.load(PATH))"
   ]
  },
  {
   "cell_type": "code",
   "execution_count": 40,
   "metadata": {},
   "outputs": [
    {
     "name": "stdout",
     "output_type": "stream",
     "text": [
      "Predicted:    dog   dog truck  frog\n"
     ]
    }
   ],
   "source": [
    "outputs = net(images)\n",
    "_, predicted = torch.max(outputs, 1)\n",
    "\n",
    "print('Predicted: ', ' '.join('%5s' % classes[predicted[j]] for j in range(4)))"
   ]
  },
  {
   "cell_type": "code",
   "execution_count": 13,
   "metadata": {},
   "outputs": [
    {
     "name": "stdout",
     "output_type": "stream",
     "text": [
      "Accuracy of the network on the 10000 test images: 54 %\n"
     ]
    }
   ],
   "source": [
    "correct = 0\n",
    "total = 0\n",
    "with torch.no_grad(): #不允許調參數 及 微分。\n",
    "    for data in testloader:\n",
    "        images, labels = data\n",
    "        outputs = net(images)\n",
    "        _, predicted = torch.max(outputs.data, 1)\n",
    "        total += labels.size(0)\n",
    "        correct += (predicted == labels).sum().item()\n",
    "\n",
    "print('Accuracy of the network on the 10000 test images: %d %%' % (\n",
    "    100 * correct / total))"
   ]
  },
  {
   "cell_type": "markdown",
   "metadata": {},
   "source": [
    "# Cat and Dog Classification"
   ]
  },
  {
   "cell_type": "code",
   "execution_count": 2,
   "metadata": {},
   "outputs": [
    {
     "name": "stdout",
     "output_type": "stream",
     "text": [
      "Using cpu device\n",
      "Epoch [1/3], Loss: 0.6690\n",
      "Epoch [1/3], Loss: 0.6027\n",
      "Epoch [1/3], Loss: 0.5496\n",
      "Epoch [1/3], Loss: 0.5896\n",
      "Epoch [1/3], Loss: 0.5611\n",
      "Epoch [1/3], Loss: 0.5983\n",
      "Epoch [1/3], Loss: 0.6655\n",
      "Epoch [2/3], Loss: 0.6506\n",
      "Epoch [2/3], Loss: 0.4936\n",
      "Epoch [2/3], Loss: 0.4708\n",
      "Epoch [2/3], Loss: 0.4771\n",
      "Epoch [2/3], Loss: 0.4426\n",
      "Epoch [2/3], Loss: 0.4686\n",
      "Epoch [2/3], Loss: 0.4323\n",
      "Epoch [3/3], Loss: 0.4408\n",
      "Epoch [3/3], Loss: 0.5452\n",
      "Epoch [3/3], Loss: 0.4602\n",
      "Epoch [3/3], Loss: 0.4369\n",
      "Epoch [3/3], Loss: 0.6052\n",
      "Epoch [3/3], Loss: 0.4886\n",
      "Epoch [3/3], Loss: 0.4329\n",
      "Test Accuracy of the model on the 2023 test images: 77.40978744438952 %\n"
     ]
    }
   ],
   "source": [
    "import os\n",
    "from PIL import Image\n",
    "\n",
    "import torch\n",
    "from torch.utils.data import Dataset, DataLoader\n",
    "from torch import nn\n",
    "from torchvision import transforms\n",
    "\n",
    "# Get cpu or gpu device for training.\n",
    "device = \"cuda\" if torch.cuda.is_available() else \"cpu\"\n",
    "print(\"Using {} device\".format(device))\n",
    "\n",
    "\n",
    "class CustomImageDataset(Dataset):\n",
    "\n",
    "    \n",
    "    def read_data_set(self):\n",
    "\n",
    "        all_img_files = []\n",
    "        all_labels = []\n",
    "        class_names = []\n",
    "        \n",
    "        for index, i in enumerate(os.listdir(self.data_set_path)):\n",
    "            class_names.append(i)\n",
    "            for j in os.listdir(self.data_set_path+'/'+i):\n",
    "                all_img_files.append(self.data_set_path+'/'+i+'/'+j)\n",
    "                all_labels.append(index)\n",
    "        #print(all_img_files)\n",
    "        #print(all_labels)\n",
    "        return all_img_files, all_labels, len(all_img_files), len(class_names)\n",
    "    \n",
    "    \n",
    "    def __init__(self, data_set_path, transforms=None):\n",
    "        self.data_set_path = data_set_path\n",
    "        #self.read_data_set2()\n",
    "        self.image_files_path, self.labels, self.length, self.num_classes = self.read_data_set()\n",
    "        self.transforms = transforms\n",
    "\n",
    "    def __getitem__(self, index):\n",
    "        image = Image.open(self.image_files_path[index])\n",
    "        image = image.convert(\"RGB\")\n",
    "\n",
    "        if self.transforms is not None:\n",
    "            image = self.transforms(image)\n",
    "\n",
    "        label = self.labels[index]\n",
    "        return image, label\n",
    "\n",
    "    def __len__(self):\n",
    "        return self.length\n",
    "\n",
    "\n",
    "class CustomConvNet(nn.Module):\n",
    "    def __init__(self, num_classes):\n",
    "        super(CustomConvNet, self).__init__()\n",
    "\n",
    "        self.layer1 = self.conv_module(3, 16)\n",
    "        self.layer2 = self.conv_module(16, 32)\n",
    "        self.layer3 = self.conv_module(32, 64)\n",
    "        self.layer4 = self.conv_module(64, 128)\n",
    "        self.layer5 = self.conv_module(128, 256)\n",
    "        self.gap = self.global_avg_pool(256, num_classes)\n",
    "\n",
    "    def forward(self, x):\n",
    "        out = self.layer1(x)\n",
    "        out = self.layer2(out)\n",
    "        out = self.layer3(out)\n",
    "        out = self.layer4(out)\n",
    "        out = self.layer5(out)\n",
    "        out = self.gap(out)\n",
    "        out = out.view(-1, num_classes)\n",
    "\n",
    "        return out\n",
    "\n",
    "    def conv_module(self, in_num, out_num):\n",
    "        return nn.Sequential(\n",
    "            nn.Conv2d(in_num, out_num, kernel_size=3, stride=1, padding=1),\n",
    "            nn.BatchNorm2d(out_num),\n",
    "            nn.LeakyReLU(),\n",
    "            nn.MaxPool2d(kernel_size=2, stride=2))\n",
    "\n",
    "    def global_avg_pool(self, in_num, out_num):\n",
    "        return nn.Sequential(\n",
    "            nn.Conv2d(in_num, out_num, kernel_size=3, stride=1, padding=1),\n",
    "            nn.BatchNorm2d(out_num),\n",
    "            nn.LeakyReLU(),\n",
    "            nn.AdaptiveAvgPool2d((1, 1)))\n",
    "\n",
    "\n",
    "hyper_param_epoch = 3\n",
    "hyper_param_batch = 32\n",
    "hyper_param_learning_rate = 0.001\n",
    "\n",
    "transforms_train = transforms.Compose([transforms.Resize((128, 128)),\n",
    "                                       transforms.RandomRotation(10.),\n",
    "                                       transforms.ToTensor()])\n",
    "\n",
    "transforms_test = transforms.Compose([transforms.Resize((128, 128)),\n",
    "                                      transforms.ToTensor()])\n",
    "\n",
    "train_data_set = CustomImageDataset(data_set_path=\"./data/train\", transforms=transforms_train)\n",
    "train_loader = DataLoader(train_data_set, batch_size=hyper_param_batch, shuffle=True)\n",
    "\n",
    "test_data_set = CustomImageDataset(data_set_path=\"./data/test\", transforms=transforms_test)\n",
    "test_loader = DataLoader(test_data_set, batch_size=hyper_param_batch, shuffle=True)\n",
    "\n",
    "\n",
    "num_classes = train_data_set.num_classes\n",
    "custom_model = CustomConvNet(num_classes=num_classes).to(device)\n",
    "\n",
    "# Loss and optimizer\n",
    "criterion = nn.CrossEntropyLoss()\n",
    "optimizer = torch.optim.Adam(custom_model.parameters(), lr=hyper_param_learning_rate)\n",
    "\n",
    "for e in range(hyper_param_epoch):\n",
    "    for i_batch, (images, labels) in enumerate(train_loader):\n",
    "        images = images.to(device)\n",
    "        labels = labels.to(device)\n",
    "        \n",
    "        # Forward pass\n",
    "        outputs = custom_model(images)\n",
    "        loss = criterion(outputs, labels)\n",
    "\n",
    "        # Backward and optimize\n",
    "        optimizer.zero_grad()\n",
    "        loss.backward()\n",
    "        optimizer.step()\n",
    "\n",
    "        if (i_batch + 1) % hyper_param_batch == 0:\n",
    "            print('Epoch [{}/{}], Loss: {:.4f}'\n",
    "                  .format(e + 1, hyper_param_epoch, loss.item()))\n",
    "\n",
    "# Test the model\n",
    "custom_model.eval()  # eval mode (batchnorm uses moving mean/variance instead of mini-batch mean/variance)\n",
    "with torch.no_grad():\n",
    "    correct = 0\n",
    "    total = 0\n",
    "    for images, labels  in test_loader:\n",
    "        images = images.to(device)\n",
    "        labels = labels.to(device)\n",
    "        outputs = custom_model(images)\n",
    "        _, predicted = torch.max(outputs.data, 1)\n",
    "        total += len(labels)\n",
    "        correct += (predicted == labels).sum().item()\n",
    "\n",
    "    print('Test Accuracy of the model on the {} test images: {} %'.format(total, 100 * correct / total))\n",
    "    \n"
   ]
  },
  {
   "cell_type": "markdown",
   "metadata": {},
   "source": [
    "# Cat and Dog Classification(ImageFolder)\n",
    "建一個資料夾 裡面一個trian 一個test 用內建api load資料\n"
   ]
  },
  {
   "cell_type": "code",
   "execution_count": 1,
   "metadata": {},
   "outputs": [
    {
     "name": "stdout",
     "output_type": "stream",
     "text": [
      "{'cats': 0, 'dogs': 1}\n",
      "[('./data/train\\\\cats\\\\cat.1.jpg', 0), ('./data/train\\\\cats\\\\cat.10.jpg', 0), ('./data/train\\\\cats\\\\cat.100.jpg', 0), ('./data/train\\\\cats\\\\cat.1000.jpg', 0), ('./data/train\\\\cats\\\\cat.1001.jpg', 0)]\n",
      "0\n",
      "torch.Size([3, 128, 128])\n"
     ]
    }
   ],
   "source": [
    "import os\n",
    "from PIL import Image\n",
    "from torch.utils.data import DataLoader\n",
    "from torchvision import transforms\n",
    "from torchvision.datasets import ImageFolder\n",
    "\n",
    "transforms_train = transforms.Compose([transforms.Resize((128, 128)),\n",
    "                                       transforms.RandomRotation(10.),\n",
    "                                       transforms.ToTensor()])\n",
    "\n",
    "train_data_set = ImageFolder('./data/train', transform=transforms_train)\n",
    "\n",
    "print(train_data_set.class_to_idx)\n",
    "print(train_data_set.imgs[:5])\n",
    "print(train_data_set[0][1])\n",
    "print(train_data_set[0][0].shape)\n"
   ]
  },
  {
   "cell_type": "code",
   "execution_count": 16,
   "metadata": {},
   "outputs": [
    {
     "name": "stdout",
     "output_type": "stream",
     "text": [
      "Using cpu device\n",
      "Epoch [1/3], Loss: 0.6193\n",
      "Epoch [1/3], Loss: 0.7256\n",
      "Epoch [1/3], Loss: 0.5685\n",
      "Epoch [1/3], Loss: 0.5066\n",
      "Epoch [1/3], Loss: 0.5693\n",
      "Epoch [1/3], Loss: 0.7040\n",
      "Epoch [1/3], Loss: 0.5100\n",
      "Epoch [2/3], Loss: 0.5772\n",
      "Epoch [2/3], Loss: 0.5393\n",
      "Epoch [2/3], Loss: 0.5894\n",
      "Epoch [2/3], Loss: 0.4766\n",
      "Epoch [2/3], Loss: 0.5051\n",
      "Epoch [2/3], Loss: 0.5638\n",
      "Epoch [2/3], Loss: 0.5188\n",
      "Epoch [3/3], Loss: 0.4729\n",
      "Epoch [3/3], Loss: 0.4602\n",
      "Epoch [3/3], Loss: 0.4799\n",
      "Epoch [3/3], Loss: 0.6825\n",
      "Epoch [3/3], Loss: 0.5179\n",
      "Epoch [3/3], Loss: 0.5571\n",
      "Epoch [3/3], Loss: 0.4892\n",
      "Test Accuracy of the model on the 2023 test images: 80.67226890756302 %\n"
     ]
    }
   ],
   "source": [
    "import os\n",
    "from PIL import Image\n",
    "\n",
    "import torch\n",
    "from torch.utils.data import DataLoader\n",
    "from torch import nn\n",
    "from torchvision import transforms\n",
    "from torchvision.datasets import ImageFolder\n",
    "\n",
    "# Get cpu or gpu device for training.\n",
    "device = \"cuda\" if torch.cuda.is_available() else \"cpu\"\n",
    "print(\"Using {} device\".format(device))\n",
    "\n",
    "\n",
    "class CustomConvNet(nn.Module):\n",
    "    def __init__(self, num_classes):\n",
    "        super(CustomConvNet, self).__init__()\n",
    "\n",
    "        self.layer1 = self.conv_module(3, 16)\n",
    "        self.layer2 = self.conv_module(16, 32)\n",
    "        self.layer3 = self.conv_module(32, 64)\n",
    "        self.layer4 = self.conv_module(64, 128)\n",
    "        self.layer5 = self.conv_module(128, 256)\n",
    "        self.gap = self.global_avg_pool(256, num_classes)\n",
    "\n",
    "    def forward(self, x):\n",
    "        out = self.layer1(x)\n",
    "        out = self.layer2(out)\n",
    "        out = self.layer3(out)\n",
    "        out = self.layer4(out)\n",
    "        out = self.layer5(out)\n",
    "        out = self.gap(out)\n",
    "        out = out.view(-1, num_classes)\n",
    "\n",
    "        return out\n",
    "\n",
    "    def conv_module(self, in_num, out_num):\n",
    "        return nn.Sequential(\n",
    "            nn.Conv2d(in_num, out_num, kernel_size=3, stride=1, padding=1),\n",
    "            nn.BatchNorm2d(out_num),\n",
    "            nn.LeakyReLU(),\n",
    "            nn.MaxPool2d(kernel_size=2, stride=2))\n",
    "\n",
    "    def global_avg_pool(self, in_num, out_num):\n",
    "        return nn.Sequential(\n",
    "            nn.Conv2d(in_num, out_num, kernel_size=3, stride=1, padding=1),\n",
    "            nn.BatchNorm2d(out_num),\n",
    "            nn.LeakyReLU(),\n",
    "            nn.AdaptiveAvgPool2d((1, 1)))\n",
    "\n",
    "\n",
    "hyper_param_epoch = 3\n",
    "hyper_param_batch = 32\n",
    "hyper_param_learning_rate = 0.001\n",
    "\n",
    "transforms_train = transforms.Compose([transforms.Resize((128, 128)),\n",
    "                                       transforms.RandomRotation(10.),\n",
    "                                       transforms.ToTensor()])\n",
    "\n",
    "transforms_test = transforms.Compose([transforms.Resize((128, 128)),\n",
    "                                      transforms.ToTensor()])\n",
    "\n",
    "train_data_set = ImageFolder('./data/train', transform=transforms_train)\n",
    "train_loader = DataLoader(train_data_set, batch_size=hyper_param_batch, shuffle=True)\n",
    "\n",
    "\n",
    "test_data_set = ImageFolder('./data/test', transform=transforms_test)\n",
    "test_loader = DataLoader(test_data_set, batch_size=hyper_param_batch, shuffle=True)\n",
    "\n",
    "\n",
    "num_classes = len(train_data_set.class_to_idx)\n",
    "custom_model = CustomConvNet(num_classes=num_classes).to(device)\n",
    "\n",
    "# Loss and optimizer\n",
    "criterion = nn.CrossEntropyLoss()\n",
    "optimizer = torch.optim.Adam(custom_model.parameters(), lr=hyper_param_learning_rate)\n",
    "\n",
    "for e in range(hyper_param_epoch):\n",
    "    for i_batch, (images, labels) in enumerate(train_loader):\n",
    "        images = images.to(device)\n",
    "        labels = labels.to(device)\n",
    "        \n",
    "        # Forward pass\n",
    "        outputs = custom_model(images)\n",
    "        loss = criterion(outputs, labels)\n",
    "\n",
    "        # Backward and optimize\n",
    "        optimizer.zero_grad()\n",
    "        loss.backward()\n",
    "        optimizer.step()\n",
    "\n",
    "        if (i_batch + 1) % hyper_param_batch == 0:\n",
    "            print('Epoch [{}/{}], Loss: {:.4f}'\n",
    "                  .format(e + 1, hyper_param_epoch, loss.item()))\n",
    "\n",
    "# Test the model\n",
    "custom_model.eval()  # eval mode (batchnorm uses moving mean/variance instead of mini-batch mean/variance)\n",
    "with torch.no_grad():\n",
    "    correct = 0\n",
    "    total = 0\n",
    "    for images, labels  in test_loader:\n",
    "        images = images.to(device)\n",
    "        labels = labels.to(device)\n",
    "        outputs = custom_model(images)\n",
    "        _, predicted = torch.max(outputs.data, 1)\n",
    "        total += len(labels)\n",
    "        correct += (predicted == labels).sum().item()\n",
    "\n",
    "    print('Test Accuracy of the model on the {} test images: {} %'.format(total, 100 * correct / total))\n",
    "    \n"
   ]
  },
  {
   "cell_type": "code",
   "execution_count": null,
   "metadata": {},
   "outputs": [],
   "source": []
  }
 ],
 "metadata": {
  "kernelspec": {
   "display_name": "Python 3.8.13 ('AI_course')",
   "language": "python",
   "name": "python3"
  },
  "language_info": {
   "codemirror_mode": {
    "name": "ipython",
    "version": 3
   },
   "file_extension": ".py",
   "mimetype": "text/x-python",
   "name": "python",
   "nbconvert_exporter": "python",
   "pygments_lexer": "ipython3",
   "version": "3.8.13"
  },
  "vscode": {
   "interpreter": {
    "hash": "17351a460c7b6a87bea396add1443477c853166d48a66f1614cf7bf03cffca4c"
   }
  }
 },
 "nbformat": 4,
 "nbformat_minor": 4
}
